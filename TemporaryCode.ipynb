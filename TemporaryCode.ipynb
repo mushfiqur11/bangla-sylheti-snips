{
 "cells": [
  {
   "cell_type": "code",
   "execution_count": 37,
   "id": "58810657",
   "metadata": {},
   "outputs": [],
   "source": [
    "import torch\n",
    "from transformers import DistilBertForSequenceClassification, DistilBertForTokenClassification\n",
    "from torch.utils.data import DataLoader, Dataset\n",
    "from transformers import DistilBertTokenizerFast\n",
    "from tqdm import tqdm"
   ]
  },
  {
   "cell_type": "code",
   "execution_count": 46,
   "id": "4906ceb7",
   "metadata": {},
   "outputs": [],
   "source": [
    "data = [\n",
    "    {\"text\": \"Book a flight from New York to Los Angeles on friday\", \"intent\": \"BookFlight\", \"slots\": {\"loc1\": \"New York\", \"loc2\": \"Los Angeles\", \"Date\": \"Friday\"}},\n",
    "    {\"text\": \"Book a flight from Dhaka to Los Angeles on friday\", \"intent\": \"BookFlight\", \"slots\": {\"loc1\": \"Dhaka\", \"loc2\": \"Los Angeles\", \"Date\": \"Friday\"}},\n",
    "    {\"text\": \"Book a flight from Ctg to Los Angeles on friday\", \"intent\": \"BookFlight\", \"slots\": {\"loc1\": \"Ctg\", \"loc2\": \"Los Angeles\", \"Date\": \"Friday\"}},\n",
    "    {\"text\": \"Book a flight from New York to Dhaka on friday\", \"intent\": \"BookFlight\", \"slots\": {\"loc1\": \"New York\", \"loc2\": \"Dhaka\", \"Date\": \"Friday\"}},\n",
    "    {\"text\": \"Book a flight from New York to Los Angeles on saturday\", \"intent\": \"BookFlight\", \"slots\": {\"loc1\": \"New York\", \"loc2\": \"Los Angeles\", \"Date\": \"saturday\"}},\n",
    "    {\"text\": \"Book a flight from New York to Los Angeles on friday\", \"intent\": \"BookFlight\", \"slots\": {\"loc1\": \"New York\", \"loc2\": \"Los Angeles\", \"Date\": \"Friday\"}},\n",
    "    {\"text\": \"Book a flight from Dhaka to Los Angeles on friday\", \"intent\": \"BookFlight\", \"slots\": {\"loc1\": \"Dhaka\", \"loc2\": \"Los Angeles\", \"Date\": \"Friday\"}},\n",
    "    {\"text\": \"Book a flight from Ctg to Los Angeles on friday\", \"intent\": \"BookFlight\", \"slots\": {\"loc1\": \"Ctg\", \"loc2\": \"Los Angeles\", \"Date\": \"Friday\"}},\n",
    "    {\"text\": \"Book a flight from New York to Dhaka on friday\", \"intent\": \"BookFlight\", \"slots\": {\"loc1\": \"New York\", \"loc2\": \"Dhaka\", \"Date\": \"Friday\"}},\n",
    "    {\"text\": \"Book a flight from New York to Los Angeles on saturday\", \"intent\": \"BookFlight\", \"slots\": {\"loc1\": \"New York\", \"loc2\": \"Los Angeles\", \"Date\": \"saturday\"}},\n",
    "    {\"text\": \"Book a flight from New York to Los Angeles on friday\", \"intent\": \"BookFlight\", \"slots\": {\"loc1\": \"New York\", \"loc2\": \"Los Angeles\", \"Date\": \"Friday\"}},\n",
    "    {\"text\": \"Book a flight from Dhaka to Los Angeles on friday\", \"intent\": \"BookFlight\", \"slots\": {\"loc1\": \"Dhaka\", \"loc2\": \"Los Angeles\", \"Date\": \"Friday\"}},\n",
    "    {\"text\": \"Book a flight from Ctg to Los Angeles on friday\", \"intent\": \"BookFlight\", \"slots\": {\"loc1\": \"Ctg\", \"loc2\": \"Los Angeles\", \"Date\": \"Friday\"}},\n",
    "    {\"text\": \"Book a flight from New York to Dhaka on friday\", \"intent\": \"BookFlight\", \"slots\": {\"loc1\": \"New York\", \"loc2\": \"Dhaka\", \"Date\": \"Friday\"}},\n",
    "    {\"text\": \"Book a flight from New York to Los Angeles on saturday\", \"intent\": \"BookFlight\", \"slots\": {\"loc1\": \"New York\", \"loc2\": \"Los Angeles\", \"Date\": \"saturday\"}},\n",
    "    {\"text\": \"Book a flight from New York to Los Angeles on friday\", \"intent\": \"BookFlight\", \"slots\": {\"loc1\": \"New York\", \"loc2\": \"Los Angeles\", \"Date\": \"Friday\"}},\n",
    "    {\"text\": \"Book a flight from Dhaka to Los Angeles on friday\", \"intent\": \"BookFlight\", \"slots\": {\"loc1\": \"Dhaka\", \"loc2\": \"Los Angeles\", \"Date\": \"Friday\"}},\n",
    "    {\"text\": \"Book a flight from Ctg to Los Angeles on friday\", \"intent\": \"BookFlight\", \"slots\": {\"loc1\": \"Ctg\", \"loc2\": \"Los Angeles\", \"Date\": \"Friday\"}},\n",
    "    {\"text\": \"Book a flight from New York to Dhaka on friday\", \"intent\": \"BookFlight\", \"slots\": {\"loc1\": \"New York\", \"loc2\": \"Dhaka\", \"Date\": \"Friday\"}},\n",
    "    {\"text\": \"Book a flight from New York to Los Angeles on saturday\", \"intent\": \"BookFlight\", \"slots\": {\"loc1\": \"New York\", \"loc2\": \"Los Angeles\", \"Date\": \"saturday\"}},\n",
    "\n",
    "    # ... more examples ...\n",
    "]\n"
   ]
  },
  {
   "cell_type": "code",
   "execution_count": 45,
   "id": "87fce38a",
   "metadata": {},
   "outputs": [],
   "source": [
    "from transformers import BertTokenizer\n",
    "\n",
    "tokenizer = BertTokenizer.from_pretrained('bert-base-uncased')\n",
    "MAX_LEN = 50  # Adjust this depending on your data\n",
    "\n",
    "def encode_data(data):\n",
    "    texts = [item['text'] for item in data]\n",
    "    encoding = tokenizer(texts, truncation=True, padding='max_length', max_length=MAX_LEN, return_tensors='pt')\n",
    "    intents = [item['intent'] for item in data]\n",
    "    slots = [item['slots'] for item in data]\n",
    "    return encoding, intents, slots\n",
    "\n",
    "encoded_data, intents, slots = encode_data(data)"
   ]
  },
  {
   "cell_type": "code",
   "execution_count": 30,
   "id": "39a87e14",
   "metadata": {},
   "outputs": [],
   "source": [
    "from torch.utils.data import DataLoader, random_split, Dataset\n",
    "\n",
    "class IntentSlotDataset(Dataset):\n",
    "    def __init__(self, encodings, intents, slots):\n",
    "        self.encodings = encodings\n",
    "        self.intents = intents\n",
    "        self.slots = slots\n",
    "\n",
    "    def __getitem__(self, idx):\n",
    "        item = {key: val[idx] for key, val in self.encodings.items()}\n",
    "        item['intents'] = self.intents[idx]\n",
    "        item['slots'] = self.slots[idx]\n",
    "        return item\n",
    "\n",
    "    def __len__(self):\n",
    "        return len(self.intents)\n",
    "\n",
    "dataset = IntentSlotDataset(encoded_data, intents, slots)\n",
    "train_size = int(0.8 * len(dataset))\n",
    "val_size = len(dataset) - train_size\n",
    "train_dataset, val_dataset = random_split(dataset, [train_size, val_size])\n",
    "train_loader = DataLoader(train_dataset, batch_size=16, shuffle=True)\n",
    "val_loader = DataLoader(val_dataset, batch_size=16, shuffle=False)\n"
   ]
  },
  {
   "cell_type": "code",
   "execution_count": 31,
   "id": "fad6733a",
   "metadata": {},
   "outputs": [],
   "source": [
    "dataloader = DataLoader(encoded_data, batch_size=8)"
   ]
  },
  {
   "cell_type": "code",
   "execution_count": 32,
   "id": "721b13c3",
   "metadata": {},
   "outputs": [
    {
     "name": "stderr",
     "output_type": "stream",
     "text": [
      "Some weights of DistilBertForSequenceClassification were not initialized from the model checkpoint at distilbert-base-uncased and are newly initialized: ['pre_classifier.bias', 'classifier.bias', 'classifier.weight', 'pre_classifier.weight']\n",
      "You should probably TRAIN this model on a down-stream task to be able to use it for predictions and inference.\n"
     ]
    }
   ],
   "source": [
    "# Initialize intent detection model\n",
    "intent_model = DistilBertForSequenceClassification.from_pretrained(\"distilbert-base-uncased\", num_labels=8)\n"
   ]
  },
  {
   "cell_type": "code",
   "execution_count": 33,
   "id": "97207daf",
   "metadata": {},
   "outputs": [
    {
     "data": {
      "text/plain": [
       "DistilBertForSequenceClassification(\n",
       "  (distilbert): DistilBertModel(\n",
       "    (embeddings): Embeddings(\n",
       "      (word_embeddings): Embedding(30522, 768, padding_idx=0)\n",
       "      (position_embeddings): Embedding(512, 768)\n",
       "      (LayerNorm): LayerNorm((768,), eps=1e-12, elementwise_affine=True)\n",
       "      (dropout): Dropout(p=0.1, inplace=False)\n",
       "    )\n",
       "    (transformer): Transformer(\n",
       "      (layer): ModuleList(\n",
       "        (0): TransformerBlock(\n",
       "          (attention): MultiHeadSelfAttention(\n",
       "            (dropout): Dropout(p=0.1, inplace=False)\n",
       "            (q_lin): Linear(in_features=768, out_features=768, bias=True)\n",
       "            (k_lin): Linear(in_features=768, out_features=768, bias=True)\n",
       "            (v_lin): Linear(in_features=768, out_features=768, bias=True)\n",
       "            (out_lin): Linear(in_features=768, out_features=768, bias=True)\n",
       "          )\n",
       "          (sa_layer_norm): LayerNorm((768,), eps=1e-12, elementwise_affine=True)\n",
       "          (ffn): FFN(\n",
       "            (dropout): Dropout(p=0.1, inplace=False)\n",
       "            (lin1): Linear(in_features=768, out_features=3072, bias=True)\n",
       "            (lin2): Linear(in_features=3072, out_features=768, bias=True)\n",
       "            (activation): GELUActivation()\n",
       "          )\n",
       "          (output_layer_norm): LayerNorm((768,), eps=1e-12, elementwise_affine=True)\n",
       "        )\n",
       "        (1): TransformerBlock(\n",
       "          (attention): MultiHeadSelfAttention(\n",
       "            (dropout): Dropout(p=0.1, inplace=False)\n",
       "            (q_lin): Linear(in_features=768, out_features=768, bias=True)\n",
       "            (k_lin): Linear(in_features=768, out_features=768, bias=True)\n",
       "            (v_lin): Linear(in_features=768, out_features=768, bias=True)\n",
       "            (out_lin): Linear(in_features=768, out_features=768, bias=True)\n",
       "          )\n",
       "          (sa_layer_norm): LayerNorm((768,), eps=1e-12, elementwise_affine=True)\n",
       "          (ffn): FFN(\n",
       "            (dropout): Dropout(p=0.1, inplace=False)\n",
       "            (lin1): Linear(in_features=768, out_features=3072, bias=True)\n",
       "            (lin2): Linear(in_features=3072, out_features=768, bias=True)\n",
       "            (activation): GELUActivation()\n",
       "          )\n",
       "          (output_layer_norm): LayerNorm((768,), eps=1e-12, elementwise_affine=True)\n",
       "        )\n",
       "        (2): TransformerBlock(\n",
       "          (attention): MultiHeadSelfAttention(\n",
       "            (dropout): Dropout(p=0.1, inplace=False)\n",
       "            (q_lin): Linear(in_features=768, out_features=768, bias=True)\n",
       "            (k_lin): Linear(in_features=768, out_features=768, bias=True)\n",
       "            (v_lin): Linear(in_features=768, out_features=768, bias=True)\n",
       "            (out_lin): Linear(in_features=768, out_features=768, bias=True)\n",
       "          )\n",
       "          (sa_layer_norm): LayerNorm((768,), eps=1e-12, elementwise_affine=True)\n",
       "          (ffn): FFN(\n",
       "            (dropout): Dropout(p=0.1, inplace=False)\n",
       "            (lin1): Linear(in_features=768, out_features=3072, bias=True)\n",
       "            (lin2): Linear(in_features=3072, out_features=768, bias=True)\n",
       "            (activation): GELUActivation()\n",
       "          )\n",
       "          (output_layer_norm): LayerNorm((768,), eps=1e-12, elementwise_affine=True)\n",
       "        )\n",
       "        (3): TransformerBlock(\n",
       "          (attention): MultiHeadSelfAttention(\n",
       "            (dropout): Dropout(p=0.1, inplace=False)\n",
       "            (q_lin): Linear(in_features=768, out_features=768, bias=True)\n",
       "            (k_lin): Linear(in_features=768, out_features=768, bias=True)\n",
       "            (v_lin): Linear(in_features=768, out_features=768, bias=True)\n",
       "            (out_lin): Linear(in_features=768, out_features=768, bias=True)\n",
       "          )\n",
       "          (sa_layer_norm): LayerNorm((768,), eps=1e-12, elementwise_affine=True)\n",
       "          (ffn): FFN(\n",
       "            (dropout): Dropout(p=0.1, inplace=False)\n",
       "            (lin1): Linear(in_features=768, out_features=3072, bias=True)\n",
       "            (lin2): Linear(in_features=3072, out_features=768, bias=True)\n",
       "            (activation): GELUActivation()\n",
       "          )\n",
       "          (output_layer_norm): LayerNorm((768,), eps=1e-12, elementwise_affine=True)\n",
       "        )\n",
       "        (4): TransformerBlock(\n",
       "          (attention): MultiHeadSelfAttention(\n",
       "            (dropout): Dropout(p=0.1, inplace=False)\n",
       "            (q_lin): Linear(in_features=768, out_features=768, bias=True)\n",
       "            (k_lin): Linear(in_features=768, out_features=768, bias=True)\n",
       "            (v_lin): Linear(in_features=768, out_features=768, bias=True)\n",
       "            (out_lin): Linear(in_features=768, out_features=768, bias=True)\n",
       "          )\n",
       "          (sa_layer_norm): LayerNorm((768,), eps=1e-12, elementwise_affine=True)\n",
       "          (ffn): FFN(\n",
       "            (dropout): Dropout(p=0.1, inplace=False)\n",
       "            (lin1): Linear(in_features=768, out_features=3072, bias=True)\n",
       "            (lin2): Linear(in_features=3072, out_features=768, bias=True)\n",
       "            (activation): GELUActivation()\n",
       "          )\n",
       "          (output_layer_norm): LayerNorm((768,), eps=1e-12, elementwise_affine=True)\n",
       "        )\n",
       "        (5): TransformerBlock(\n",
       "          (attention): MultiHeadSelfAttention(\n",
       "            (dropout): Dropout(p=0.1, inplace=False)\n",
       "            (q_lin): Linear(in_features=768, out_features=768, bias=True)\n",
       "            (k_lin): Linear(in_features=768, out_features=768, bias=True)\n",
       "            (v_lin): Linear(in_features=768, out_features=768, bias=True)\n",
       "            (out_lin): Linear(in_features=768, out_features=768, bias=True)\n",
       "          )\n",
       "          (sa_layer_norm): LayerNorm((768,), eps=1e-12, elementwise_affine=True)\n",
       "          (ffn): FFN(\n",
       "            (dropout): Dropout(p=0.1, inplace=False)\n",
       "            (lin1): Linear(in_features=768, out_features=3072, bias=True)\n",
       "            (lin2): Linear(in_features=3072, out_features=768, bias=True)\n",
       "            (activation): GELUActivation()\n",
       "          )\n",
       "          (output_layer_norm): LayerNorm((768,), eps=1e-12, elementwise_affine=True)\n",
       "        )\n",
       "      )\n",
       "    )\n",
       "  )\n",
       "  (pre_classifier): Linear(in_features=768, out_features=768, bias=True)\n",
       "  (classifier): Linear(in_features=768, out_features=8, bias=True)\n",
       "  (dropout): Dropout(p=0.2, inplace=False)\n",
       ")"
      ]
     },
     "execution_count": 33,
     "metadata": {},
     "output_type": "execute_result"
    }
   ],
   "source": [
    "device = torch.device(\"cuda\" if torch.cuda.is_available() else \"cpu\")\n",
    "intent_model.to(device)"
   ]
  },
  {
   "cell_type": "code",
   "execution_count": 34,
   "id": "12dc1d06",
   "metadata": {},
   "outputs": [],
   "source": [
    "optimizer_intent = torch.optim.Adam(intent_model.parameters(), lr=2e-5)"
   ]
  },
  {
   "cell_type": "code",
   "execution_count": 44,
   "id": "cf63d1c2",
   "metadata": {},
   "outputs": [
    {
     "name": "stderr",
     "output_type": "stream",
     "text": [
      "  0%|          | 0/3 [00:00<?, ?it/s]\n"
     ]
    },
    {
     "ename": "TypeError",
     "evalue": "only integer tensors of a single element can be converted to an index",
     "output_type": "error",
     "traceback": [
      "\u001b[0;31m---------------------------------------------------------------------------\u001b[0m",
      "\u001b[0;31mTypeError\u001b[0m                                 Traceback (most recent call last)",
      "Cell \u001b[0;32mIn[44], line 6\u001b[0m\n\u001b[1;32m      3\u001b[0m \u001b[39m# slot_model.train()\u001b[39;00m\n\u001b[1;32m      5\u001b[0m \u001b[39mfor\u001b[39;00m batch \u001b[39min\u001b[39;00m tqdm(dataloader):\n\u001b[0;32m----> 6\u001b[0m     input_ids \u001b[39m=\u001b[39m torch\u001b[39m.\u001b[39;49mtensor(batch[\u001b[39m\"\u001b[39;49m\u001b[39minput_ids\u001b[39;49m\u001b[39m\"\u001b[39;49m])\u001b[39m.\u001b[39mto(device)\n\u001b[1;32m      7\u001b[0m     attention_mask \u001b[39m=\u001b[39m torch\u001b[39m.\u001b[39mtensor(batch[\u001b[39m\"\u001b[39m\u001b[39mattention_mask\u001b[39m\u001b[39m\"\u001b[39m])\u001b[39m.\u001b[39mto(device)\n\u001b[1;32m      8\u001b[0m     intent_labels \u001b[39m=\u001b[39m torch\u001b[39m.\u001b[39mtensor(batch[\u001b[39m\"\u001b[39m\u001b[39mintent_label\u001b[39m\u001b[39m\"\u001b[39m])\u001b[39m.\u001b[39mto(device)\n",
      "\u001b[0;31mTypeError\u001b[0m: only integer tensors of a single element can be converted to an index"
     ]
    }
   ],
   "source": [
    "for epoch in range(3):  # Number of epochs\n",
    "    intent_model.train()\n",
    "    # slot_model.train()\n",
    "\n",
    "    for batch in tqdm(dataloader):\n",
    "        input_ids = torch.tensor(batch[\"input_ids\"]).to(device)\n",
    "        attention_mask = torch.tensor(batch[\"attention_mask\"]).to(device)\n",
    "        intent_labels = torch.tensor(batch[\"intent_label\"]).to(device)\n",
    "\n",
    "        optimizer_intent.zero_grad()\n",
    "        # optimizer_slot.zero_grad()\n",
    "\n",
    "        # Intent Detection\n",
    "        intent_outputs = intent_model(input_ids=input_ids, attention_mask=attention_mask)\n",
    "        intent_loss = intent_criterion(intent_outputs.logits, intent_labels)\n",
    "        intent_loss.backward()\n",
    "        optimizer_intent.step()\n",
    "\n",
    "        # # Slot Filling\n",
    "        # slot_outputs = slot_model(input_ids=input_ids, attention_mask=attention_mask)\n",
    "        # slot_loss = compute_slot_loss(slot_outputs.logits, slot_labels)\n",
    "        # slot_loss.backward()\n",
    "        # optimizer_slot.step()\n"
   ]
  },
  {
   "cell_type": "code",
   "execution_count": null,
   "id": "f61ab86b",
   "metadata": {},
   "outputs": [],
   "source": [
    "import sentencepiece as spm\n",
    "\n",
    "# Assuming you have a text file named 'bangla_corpus.txt' with lots of Bengali sentences.\n",
    "spm.SentencePieceTrainer.train('--input=bangla_corpus.txt --model_prefix=m_bangla --vocab_size=16000 --character_coverage=0.9995')\n"
   ]
  }
 ],
 "metadata": {
  "kernelspec": {
   "display_name": "banglanlp",
   "language": "python",
   "name": "python3"
  },
  "language_info": {
   "codemirror_mode": {
    "name": "ipython",
    "version": 3
   },
   "file_extension": ".py",
   "mimetype": "text/x-python",
   "name": "python",
   "nbconvert_exporter": "python",
   "pygments_lexer": "ipython3",
   "version": "3.9.12"
  }
 },
 "nbformat": 4,
 "nbformat_minor": 5
}
